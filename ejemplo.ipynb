{
 "cells": [
  {
   "cell_type": "markdown",
   "metadata": {},
   "source": [
    "# Mi primer Notebook!"
   ]
  },
  {
   "cell_type": "markdown",
   "metadata": {},
   "source": [
    "2do CA. Rocha Gil Ricardo"
   ]
  },
  {
   "cell_type": "code",
   "execution_count": 21,
   "metadata": {},
   "outputs": [
    {
     "name": "stdout",
     "output_type": "stream",
     "text": [
      "Hola Mundo\n"
     ]
    }
   ],
   "source": [
    "print(\"Hola Mundo\")"
   ]
  },
  {
   "cell_type": "markdown",
   "metadata": {},
   "source": [
    "## Mis primeros descriptivos con Pandas"
   ]
  },
  {
   "cell_type": "markdown",
   "metadata": {},
   "source": [
    "Importa la biblioteca pandas y la asigna al alias pd para manejar datos de forma tabular en Python."
   ]
  },
  {
   "cell_type": "code",
   "execution_count": null,
   "metadata": {},
   "outputs": [],
   "source": [
    "# Importa la biblioteca pandas y la asigna al alias 'pd' para facilitar su uso.\n",
    "import pandas as pd\n"
   ]
  },
  {
   "cell_type": "markdown",
   "metadata": {},
   "source": [
    "\n",
    "El código crea un DataFrame de pandas llamado df con los datos proporcionados."
   ]
  },
  {
   "cell_type": "code",
   "execution_count": null,
   "metadata": {},
   "outputs": [],
   "source": [
    "# Crea un diccionario con datos de 'edad' y 'peso', luego lo convierte en un DataFrame de pandas\n",
    "datos = {\n",
    "    'edad': [8, 9, 10, 11, 12],\n",
    "    'peso': [30, 32, 35, 37, 40]\n",
    "}\n",
    "# Convierte el diccionario en un DataFrame llamado 'df'\n",
    "df = pd.DataFrame(datos)\n"
   ]
  },
  {
   "cell_type": "markdown",
   "metadata": {},
   "source": [
    "\n",
    "Este código calcula la media y la desviación típica para las columnas edad y peso del DataFrame df, y luego imprime los resultados."
   ]
  },
  {
   "cell_type": "code",
   "execution_count": 29,
   "metadata": {},
   "outputs": [
    {
     "name": "stdout",
     "output_type": "stream",
     "text": [
      "Media de Edad: 10.0\n",
      "Desviación Típica de Edad: 1.5811388300841898\n",
      "Media de Peso: 34.8\n",
      "Desviación Típica de Peso: 3.9623225512317903\n"
     ]
    }
   ],
   "source": [
    "# Calcula la media de la columna 'edad' del DataFrame\n",
    "media_edad = df['edad'].mean()\n",
    "# Calcula la desviación típica de la columna 'edad' del DataFrame\n",
    "desviacion_tipica_edad = df['edad'].std()\n",
    "\n",
    "# Calcula la media de la columna 'peso' del DataFrame\n",
    "media_peso = df['peso'].mean()\n",
    "# Calcula la desviación típica de la columna 'peso' del DataFrame\n",
    "desviacion_tipica_peso = df['peso'].std()\n",
    "\n",
    "# Imprime los resultados de las medias y desviaciones típicas calculadas\n",
    "print(\"Media de Edad:\", media_edad) \n",
    "print(\"Desviación Típica de Edad:\", desviacion_tipica_edad)\n",
    "print(\"Media de Peso:\", media_peso)\n",
    "print(\"Desviación Típica de Peso:\", desviacion_tipica_peso)"
   ]
  }
 ],
 "metadata": {
  "kernelspec": {
   "display_name": "Python 3",
   "language": "python",
   "name": "python3"
  },
  "language_info": {
   "codemirror_mode": {
    "name": "ipython",
    "version": 3
   },
   "file_extension": ".py",
   "mimetype": "text/x-python",
   "name": "python",
   "nbconvert_exporter": "python",
   "pygments_lexer": "ipython3",
   "version": "3.11.9"
  }
 },
 "nbformat": 4,
 "nbformat_minor": 2
}
